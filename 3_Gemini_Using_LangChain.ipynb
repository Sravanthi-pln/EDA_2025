{
  "cells": [
    {
      "cell_type": "markdown",
      "metadata": {
        "id": "view-in-github",
        "colab_type": "text"
      },
      "source": [
        "<a href=\"https://colab.research.google.com/github/Sravanthi-pln/EDA_2025/blob/main/3_Gemini_Using_LangChain.ipynb\" target=\"_parent\"><img src=\"https://colab.research.google.com/assets/colab-badge.svg\" alt=\"Open In Colab\"/></a>"
      ]
    },
    {
      "cell_type": "code",
      "execution_count": null,
      "metadata": {
        "id": "eDcmZ-Qpkd-p",
        "scrolled": true
      },
      "outputs": [],
      "source": [
        "!pip install langchain-google-genai"
      ]
    },
    {
      "cell_type": "markdown",
      "metadata": {
        "id": "mxP6Jixoxsz5"
      },
      "source": [
        "## Embedding Model"
      ]
    },
    {
      "cell_type": "code",
      "execution_count": null,
      "metadata": {
        "id": "0OrQxqYaxsz5",
        "outputId": "5fc92752-4ac5-4728-b9b4-12d1ff9b0739"
      },
      "outputs": [
        {
          "data": {
            "text/plain": [
              "768"
            ]
          },
          "execution_count": 4,
          "metadata": {},
          "output_type": "execute_result"
        }
      ],
      "source": [
        "from langchain_google_genai import GoogleGenerativeAIEmbeddings\n",
        "\n",
        "embeddings = GoogleGenerativeAIEmbeddings(model=\"models/embedding-001\",\n",
        "                                         google_api_key=<api_key>)\n",
        "len(embeddings.embed_query(\"What's our Q1 revenue?\"))"
      ]
    },
    {
      "cell_type": "code",
      "execution_count": null,
      "metadata": {
        "id": "Q-tSBuqaxsz6"
      },
      "outputs": [],
      "source": [
        "# Example documents (knowledge base)\n",
        "documents = [\n",
        "    \"Sachin Tendulkar is a legendary Indian cricketer.\",\n",
        "    \"Virat Kohli is a famous Indian cricket captain.\",\n",
        "    \"MS Dhoni led India to World Cup victory.\",\n",
        "]\n",
        "vectors_list=[]\n",
        "for i in documents:\n",
        "    vc=embeddings.embed_query(i)\n",
        "    vectors_list.append(vc)\n",
        "\n",
        "# Query sentence\n",
        "query = \"Who is the famous Indian cricketer?\"\n",
        "query_embedding = embeddings.embed_query(query)"
      ]
    },
    {
      "cell_type": "code",
      "execution_count": null,
      "metadata": {
        "id": "RPX7Mdhsxsz6",
        "outputId": "883d61d7-61ab-421e-e802-b5da4cd066ab"
      },
      "outputs": [
        {
          "data": {
            "text/plain": [
              "(768, 768, 768, 768)"
            ]
          },
          "execution_count": 18,
          "metadata": {},
          "output_type": "execute_result"
        }
      ],
      "source": [
        "len(vectors_list[0]),len(vectors_list[1]),len(vectors_list[2]),len(query_embedding)\n"
      ]
    },
    {
      "cell_type": "code",
      "execution_count": null,
      "metadata": {
        "id": "DSzSVB1Qxsz6",
        "outputId": "e1e613b9-338d-4fb3-f25b-69237bd3b844"
      },
      "outputs": [
        {
          "data": {
            "text/plain": [
              "(0.8039742438175788, 0.8187675035244103, 0.7252266839924959)"
            ]
          },
          "execution_count": 26,
          "metadata": {},
          "output_type": "execute_result"
        }
      ],
      "source": [
        "import numpy as np\n",
        "v1=np.array(vectors_list[0])\n",
        "v2=np.array(vectors_list[1])\n",
        "v3=np.array(vectors_list[2])\n",
        "qn_v=np.array(query_embedding)\n",
        "np.dot(v1,qn_v),np.dot(v2,qn_v),np.dot(v3,qn_v)"
      ]
    },
    {
      "cell_type": "code",
      "execution_count": null,
      "metadata": {
        "id": "bPGdj6bdxsz7",
        "outputId": "483b5b17-6a90-4f41-9e7b-0af9c69ca840"
      },
      "outputs": [
        {
          "data": {
            "text/plain": [
              "(0.7217570266102067,\n",
              " 0.7134446250612397,\n",
              " 0.6667297440954414,\n",
              " 0.6838369236106612)"
            ]
          },
          "execution_count": 32,
          "metadata": {},
          "output_type": "execute_result"
        }
      ],
      "source": [
        "# Example documents (knowledge base)\n",
        "documents = [\n",
        "    \"Sachin Tendulkar is a legendary Indian cricketer.\",\n",
        "    \"Virat Kohli is a famous Indian cricket captain.\",\n",
        "    \"MS Dhoni led India to World Cup victory.\",\n",
        "    \"Ricky is famous Australian Cricketer\"\n",
        "]\n",
        "vectors_list=[]\n",
        "for i in documents:\n",
        "    vc=embeddings.embed_query(i)\n",
        "    vectors_list.append(vc)\n",
        "\n",
        "# Query sentence\n",
        "query = \"Tell me Names of Greatest Indian Cricketers\"\n",
        "query_embedding = embeddings.embed_query(query)\n",
        "\n",
        "import numpy as np\n",
        "v1=np.array(vectors_list[0])\n",
        "v2=np.array(vectors_list[1])\n",
        "v3=np.array(vectors_list[2])\n",
        "v4=np.array(vectors_list[3])\n",
        "qn_v=np.array(query_embedding)\n",
        "np.dot(v1,qn_v),np.dot(v2,qn_v),np.dot(v3,qn_v),np.dot(v4,qn_v)"
      ]
    },
    {
      "cell_type": "code",
      "execution_count": null,
      "metadata": {
        "id": "PR9hOJfQkfAX"
      },
      "outputs": [],
      "source": [
        "from langchain_google_genai import ChatGoogleGenerativeAI\n",
        "\n",
        "llm = ChatGoogleGenerativeAI(\n",
        "    model=\"gemini-2.0-flash\",\n",
        "    google_api_key=<api_key>,\n",
        "    temperature=0.3,\n",
        ")\n",
        "\n",
        "response=llm.invoke(\"Name top5 Crickters in India.\")\n",
        "print(response)"
      ]
    },
    {
      "cell_type": "code",
      "execution_count": null,
      "metadata": {
        "id": "0sfBqONqkwv0"
      },
      "outputs": [],
      "source": [
        "from langchain_google_genai import GoogleGenerativeAIEmbeddings\n",
        "\n",
        "embedding_model = GoogleGenerativeAIEmbeddings(\n",
        "    model=\"models/embedding-001\",\n",
        "    google_api_key=<api_key>,\n",
        ")\n",
        "\n",
        "sentence = \"Sachin Tendulkar is a legendary Indian cricketer.\"  # example sentence\n",
        "embedding_vector = embedding_model.embed_query(sentence)\n",
        "print(embedding_vector)\n"
      ]
    },
    {
      "cell_type": "code",
      "execution_count": null,
      "metadata": {
        "id": "3usiqdFwlPEb"
      },
      "outputs": [],
      "source": [
        "import numpy as np\n",
        "from langchain_google_genai import GoogleGenerativeAIEmbeddings\n",
        "\n",
        "# Initialize embedding model\n",
        "embedding_model = GoogleGenerativeAIEmbeddings(\n",
        "    model=\"models/embedding-001\",\n",
        "    google_api_key=<api_key>,\n",
        ")\n",
        "\n",
        "# Example documents (knowledge base)\n",
        "documents = [\n",
        "    \"Sachin Tendulkar is a legendary Indian cricketer.\",\n",
        "    \"Virat Kohli is a famous Indian cricket captain.\",\n",
        "    \"MS Dhoni led India to World Cup victory.\",\n",
        "]\n",
        "\n",
        "# Embed documents\n",
        "doc_embeddings = [embedding_model.embed_query(doc) for doc in documents]\n",
        "\n",
        "# Query sentence\n",
        "query = \"Who is the famous Indian cricketer?\"\n",
        "query_embedding = embedding_model.embed_query(query)\n",
        "\n",
        "# Cosine similarity function\n",
        "def cosine_similarity(vec1, vec2):\n",
        "    vec1 = np.array(vec1)\n",
        "    vec2 = np.array(vec2)\n",
        "    return np.dot(vec1, vec2) / (np.linalg.norm(vec1) * np.linalg.norm(vec2))\n",
        "\n",
        "# Calculate similarities of query with each document\n",
        "similarities = [cosine_similarity(query_embedding, doc_emb) for doc_emb in doc_embeddings]\n",
        "\n",
        "# Find the best matching document index\n",
        "best_doc_index = np.argmax(similarities)\n",
        "\n",
        "print(\"Query:\", query)\n",
        "print(\"Best matching document:\", documents[best_doc_index])\n",
        "print(\"Cosine similarity:\", similarities[best_doc_index])\n"
      ]
    },
    {
      "cell_type": "code",
      "execution_count": null,
      "metadata": {
        "id": "p93OmFT-lpG7"
      },
      "outputs": [],
      "source": []
    }
  ],
  "metadata": {
    "colab": {
      "provenance": [],
      "include_colab_link": true
    },
    "kernelspec": {
      "display_name": "Python 3 (ipykernel)",
      "language": "python",
      "name": "python3"
    },
    "language_info": {
      "codemirror_mode": {
        "name": "ipython",
        "version": 3
      },
      "file_extension": ".py",
      "mimetype": "text/x-python",
      "name": "python",
      "nbconvert_exporter": "python",
      "pygments_lexer": "ipython3",
      "version": "3.12.7"
    }
  },
  "nbformat": 4,
  "nbformat_minor": 0
}