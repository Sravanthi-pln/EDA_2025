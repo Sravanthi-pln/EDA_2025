{
 "cells": [
  {
   "cell_type": "code",
   "execution_count": 3,
   "id": "fa9eaa95-447e-4d98-a126-1f0226d22054",
   "metadata": {},
   "outputs": [],
   "source": [
    "import pandas as pd\n",
    "import numpy as np\n",
    "import matplotlib.pyplot as plt\n",
    "import seaborn as sns"
   ]
  },
  {
   "cell_type": "code",
   "execution_count": 5,
   "id": "dde5a027-0e65-435d-99ff-b389d581bd0b",
   "metadata": {},
   "outputs": [],
   "source": [
    "file_path=r'C:\\Users\\LG\\Documents\\DataFiles\\Visadataset.csv'\n",
    "visa_df=pd.read_csv(file_path)\n",
    "visa_df\n",
    "\n",
    "cat=visa_df.select_dtypes(include='object').columns\n",
    "num=visa_df.select_dtypes(exclude='object').columns"
   ]
  },
  {
   "cell_type": "markdown",
   "id": "be2121e1-7dbd-4b80-8066-9eac21b48a87",
   "metadata": {},
   "source": [
    "## Scaling ##"
   ]
  },
  {
   "cell_type": "markdown",
   "id": "60aeca38-f88f-4854-8375-74303b027b66",
   "metadata": {},
   "source": [
    "-Scaling is the one of the most important step before model development\n",
    "\n",
    "-Scaling means makes all the columns under one scale\n",
    "\n",
    "-scaling used to make all the columns or features comparable\n",
    "\n",
    "-some ML models works on Distance methods\n",
    "\n",
    "        - Example age min:0 max:100\n",
    "        - income might be lakhs crores so much bigger values\n",
    "        - if we dont make age and income under oone scale ML model treats income is the important variables\n",
    "        - When values are huge maths makes more complex so it is better to do lower down the values\n",
    "        - All the features under one scale so easy to compare\n",
    "                 Dollars and Rupees we can not compare because two are different scales\n",
    "        "
   ]
  },
  {
   "cell_type": "markdown",
   "id": "35962d30-f953-4c06-aec1-e3714df9a940",
   "metadata": {},
   "source": [
    "**Standard Scalar**\n",
    "\n",
    "- Z scale makes mean=0 and standard deviation always = 1\n",
    "\n",
    "- <img src=\"https://www.simplypsychology.org/wp-content/uploads/Z-score-formula.jpg\" jsaction=\"\" class=\"sFlh5c FyHeAf iPVvYb\" style=\"max-width: 435px; height: 249px; margin: 0px; width: 305px;\" alt=\"Z-Score: Definition, Formula, Calculation &amp; Interpretation\" jsname=\"kn3ccd\">"
   ]
  },
  {
   "cell_type": "code",
   "execution_count": 19,
   "id": "0e7afd36-9e01-4978-b798-79a9822679ec",
   "metadata": {},
   "outputs": [],
   "source": [
    "# step-1 : x=prevailawage data\n",
    "# step-2: mean of previlange data\n",
    "# step -3: sd=sd of prevailange data\n",
    "#step-4: step1-step2 x-mean\n",
    "#step-5: step4/step3\n"
   ]
  },
  {
   "cell_type": "code",
   "execution_count": 17,
   "id": "6766b177-1fee-4a3d-bfb4-6454e6a2f041",
   "metadata": {},
   "outputs": [
    {
     "data": {
      "text/plain": [
       "count     25480.000000\n",
       "mean      74455.814592\n",
       "std       52815.942327\n",
       "min           2.136700\n",
       "25%       34015.480000\n",
       "50%       70308.210000\n",
       "75%      107735.512500\n",
       "max      319210.270000\n",
       "Name: prevailing_wage, dtype: float64"
      ]
     },
     "execution_count": 17,
     "metadata": {},
     "output_type": "execute_result"
    }
   ],
   "source": [
    "visa_df['prevailing_wage'].describe()"
   ]
  },
  {
   "cell_type": "code",
   "execution_count": 45,
   "id": "b51fa021-a818-45c2-abe5-7047c4cc4241",
   "metadata": {},
   "outputs": [
    {
     "data": {
      "text/plain": [
       "0       -1.398537\n",
       "1        0.169835\n",
       "2        0.919079\n",
       "3        0.169994\n",
       "4        1.428604\n",
       "           ...   \n",
       "25475    0.049924\n",
       "25476    3.876159\n",
       "25477    1.360280\n",
       "25478    0.221509\n",
       "25479   -0.067763\n",
       "Name: prevailing_wage, Length: 25480, dtype: float64"
      ]
     },
     "execution_count": 45,
     "metadata": {},
     "output_type": "execute_result"
    }
   ],
   "source": [
    "x=visa_df['prevailing_wage']\n",
    "mean= np.mean(visa_df['prevailing_wage'])\n",
    "sd=np.std(visa_df['prevailing_wage'])\n",
    "\n",
    "wage_z=(x-mean)/sd\n",
    "wage_z"
   ]
  },
  {
   "cell_type": "code",
   "execution_count": 47,
   "id": "a8cb78ab-fdc5-4e37-9d15-f681ba0e921a",
   "metadata": {},
   "outputs": [
    {
     "data": {
      "text/plain": [
       "(8.449546661511395e-17, 1.000019623811538)"
      ]
     },
     "execution_count": 47,
     "metadata": {},
     "output_type": "execute_result"
    }
   ],
   "source": [
    "wage_z.mean(), wage_z.std()"
   ]
  },
  {
   "cell_type": "code",
   "execution_count": 51,
   "id": "1c4e5112-5e44-4e35-b841-ca0ea2525fbf",
   "metadata": {},
   "outputs": [
    {
     "data": {
      "image/png": "[encoded data removed]",
      "text/plain": [
       "<Figure size 640x480 with 2 Axes>"
      ]
     },
     "metadata": {},
     "output_type": "display_data"
    }
   ],
   "source": [
    "plt.subplot(1,2,1).hist(x)\n",
    "plt.subplot(1,2,2).hist(wage_z)\n",
    "plt.show()"
   ]
  },
  {
   "cell_type": "markdown",
   "id": "2bbd52c0-6fd5-43b0-98c9-4e48b800fccb",
   "metadata": {},
   "source": [
    "## StandardScaler()\n",
    "\n",
    "-sklearn\n",
    "\n",
    "    - preprocessing\n",
    "\n",
    "        -standardscalar"
   ]
  },
  {
   "cell_type": "code",
   "execution_count": 90,
   "id": "e5500bde-ad2d-4e62-a078-7dd62618147c",
   "metadata": {},
   "outputs": [
    {
     "data": {
      "text/html": [
       "<div>\n",
       "<style scoped>\n",
       "    .dataframe tbody tr th:only-of-type {\n",
       "        vertical-align: middle;\n",
       "    }\n",
       "\n",
       "    .dataframe tbody tr th {\n",
       "        vertical-align: top;\n",
       "    }\n",
       "\n",
       "    .dataframe thead th {\n",
       "        text-align: right;\n",
       "    }\n",
       "</style>\n",
       "<table border=\"1\" class=\"dataframe\">\n",
       "  <thead>\n",
       "    <tr style=\"text-align: right;\">\n",
       "      <th></th>\n",
       "      <th>prevailing_wage</th>\n",
       "    </tr>\n",
       "  </thead>\n",
       "  <tbody>\n",
       "    <tr>\n",
       "      <th>0</th>\n",
       "      <td>592.2029</td>\n",
       "    </tr>\n",
       "    <tr>\n",
       "      <th>1</th>\n",
       "      <td>83425.6500</td>\n",
       "    </tr>\n",
       "    <tr>\n",
       "      <th>2</th>\n",
       "      <td>122996.8600</td>\n",
       "    </tr>\n",
       "    <tr>\n",
       "      <th>3</th>\n",
       "      <td>83434.0300</td>\n",
       "    </tr>\n",
       "    <tr>\n",
       "      <th>4</th>\n",
       "      <td>149907.3900</td>\n",
       "    </tr>\n",
       "    <tr>\n",
       "      <th>...</th>\n",
       "      <td>...</td>\n",
       "    </tr>\n",
       "    <tr>\n",
       "      <th>25475</th>\n",
       "      <td>77092.5700</td>\n",
       "    </tr>\n",
       "    <tr>\n",
       "      <th>25476</th>\n",
       "      <td>279174.7900</td>\n",
       "    </tr>\n",
       "    <tr>\n",
       "      <th>25477</th>\n",
       "      <td>146298.8500</td>\n",
       "    </tr>\n",
       "    <tr>\n",
       "      <th>25478</th>\n",
       "      <td>86154.7700</td>\n",
       "    </tr>\n",
       "    <tr>\n",
       "      <th>25479</th>\n",
       "      <td>70876.9100</td>\n",
       "    </tr>\n",
       "  </tbody>\n",
       "</table>\n",
       "<p>25480 rows × 1 columns</p>\n",
       "</div>"
      ],
      "text/plain": [
       "       prevailing_wage\n",
       "0             592.2029\n",
       "1           83425.6500\n",
       "2          122996.8600\n",
       "3           83434.0300\n",
       "4          149907.3900\n",
       "...                ...\n",
       "25475       77092.5700\n",
       "25476      279174.7900\n",
       "25477      146298.8500\n",
       "25478       86154.7700\n",
       "25479       70876.9100\n",
       "\n",
       "[25480 rows x 1 columns]"
      ]
     },
     "execution_count": 90,
     "metadata": {},
     "output_type": "execute_result"
    }
   ],
   "source": [
    "visa_df[['prevailing_wage']]"
   ]
  },
  {
   "cell_type": "code",
   "execution_count": 92,
   "id": "88f74ed8-b2b3-43ee-a174-bce87fad27a9",
   "metadata": {},
   "outputs": [
    {
     "data": {
      "text/plain": [
       "0           592.2029\n",
       "1         83425.6500\n",
       "2        122996.8600\n",
       "3         83434.0300\n",
       "4        149907.3900\n",
       "            ...     \n",
       "25475     77092.5700\n",
       "25476    279174.7900\n",
       "25477    146298.8500\n",
       "25478     86154.7700\n",
       "25479     70876.9100\n",
       "Name: prevailing_wage, Length: 25480, dtype: float64"
      ]
     },
     "execution_count": 92,
     "metadata": {},
     "output_type": "execute_result"
    }
   ],
   "source": [
    "visa_df['prevailing_wage']"
   ]
  },
  {
   "cell_type": "code",
   "execution_count": 95,
   "id": "146efa4d-2310-4e14-970f-64dfe0123051",
   "metadata": {},
   "outputs": [
    {
     "data": {
      "text/plain": [
       "array([[-1.39853722],\n",
       "       [ 0.1698353 ],\n",
       "       [ 0.91907852],\n",
       "       ...,\n",
       "       [ 1.36027953],\n",
       "       [ 0.22150859],\n",
       "       [-0.06776315]])"
      ]
     },
     "execution_count": 95,
     "metadata": {},
     "output_type": "execute_result"
    }
   ],
   "source": [
    "wage_data=visa_df[['prevailing_wage']]\n",
    "\n",
    "from sklearn.preprocessing import StandardScaler\n",
    "ss=StandardScaler()\n",
    "\n",
    "wage_ss=ss.fit_transform(wage_data)\n",
    "\n",
    "wage_ss"
   ]
  },
  {
   "cell_type": "markdown",
   "id": "4cde3840-67c8-4bee-8f9f-0ed66d581338",
   "metadata": {},
   "source": [
    "## Assignment\n",
    "- apply MinMax Scale or Normalization on wage data\n",
    "- do based on formulae\n",
    "- do based on package\n",
    "- draw the histogram\n",
    "- min=0 max=1\n",
    "<img src=\"https://miro.medium.com/v2/resize:fit:888/1*ye1I00S61GqpR34ABZZFLQ.png\" jsaction=\"\" class=\"sFlh5c FyHeAf iPVvYb\" style=\"max-width: 444px; height: 107px; margin: 29px 0px; width: 305px;\" alt=\"How Min-Max Scaler Works. The math behind the min-max scaler | by Kamlesh  Kumar Rangi | Medium\" jsname=\"kn3ccd\">"
   ]
  },
  {
   "cell_type": "code",
   "execution_count": 105,
   "id": "6c648f77-87cb-4235-a35b-a6363f288f06",
   "metadata": {},
   "outputs": [
    {
     "data": {
      "text/html": [
       "<div>\n",
       "<style scoped>\n",
       "    .dataframe tbody tr th:only-of-type {\n",
       "        vertical-align: middle;\n",
       "    }\n",
       "\n",
       "    .dataframe tbody tr th {\n",
       "        vertical-align: top;\n",
       "    }\n",
       "\n",
       "    .dataframe thead th {\n",
       "        text-align: right;\n",
       "    }\n",
       "</style>\n",
       "<table border=\"1\" class=\"dataframe\">\n",
       "  <thead>\n",
       "    <tr style=\"text-align: right;\">\n",
       "      <th></th>\n",
       "      <th>prevailing_wage</th>\n",
       "    </tr>\n",
       "  </thead>\n",
       "  <tbody>\n",
       "    <tr>\n",
       "      <th>0</th>\n",
       "      <td>0.001849</td>\n",
       "    </tr>\n",
       "    <tr>\n",
       "      <th>1</th>\n",
       "      <td>0.261345</td>\n",
       "    </tr>\n",
       "    <tr>\n",
       "      <th>2</th>\n",
       "      <td>0.385312</td>\n",
       "    </tr>\n",
       "    <tr>\n",
       "      <th>3</th>\n",
       "      <td>0.261371</td>\n",
       "    </tr>\n",
       "    <tr>\n",
       "      <th>4</th>\n",
       "      <td>0.469616</td>\n",
       "    </tr>\n",
       "    <tr>\n",
       "      <th>...</th>\n",
       "      <td>...</td>\n",
       "    </tr>\n",
       "    <tr>\n",
       "      <th>25475</th>\n",
       "      <td>0.241505</td>\n",
       "    </tr>\n",
       "    <tr>\n",
       "      <th>25476</th>\n",
       "      <td>0.874579</td>\n",
       "    </tr>\n",
       "    <tr>\n",
       "      <th>25477</th>\n",
       "      <td>0.458311</td>\n",
       "    </tr>\n",
       "    <tr>\n",
       "      <th>25478</th>\n",
       "      <td>0.269895</td>\n",
       "    </tr>\n",
       "    <tr>\n",
       "      <th>25479</th>\n",
       "      <td>0.222033</td>\n",
       "    </tr>\n",
       "  </tbody>\n",
       "</table>\n",
       "<p>25480 rows × 1 columns</p>\n",
       "</div>"
      ],
      "text/plain": [
       "       prevailing_wage\n",
       "0             0.001849\n",
       "1             0.261345\n",
       "2             0.385312\n",
       "3             0.261371\n",
       "4             0.469616\n",
       "...                ...\n",
       "25475         0.241505\n",
       "25476         0.874579\n",
       "25477         0.458311\n",
       "25478         0.269895\n",
       "25479         0.222033\n",
       "\n",
       "[25480 rows x 1 columns]"
      ]
     },
     "execution_count": 105,
     "metadata": {},
     "output_type": "execute_result"
    }
   ],
   "source": [
    "wage_min=np.min(wage_data)\n",
    "wage_max=np.max(wage_data)\n",
    "wage_scaled = (wage_data-wage_min)/(wage_max -wage_min)\n",
    "wage_scaled"
   ]
  },
  {
   "cell_type": "code",
   "execution_count": 99,
   "id": "a99d829d-9e9e-4718-8273-b99b17ba9bd0",
   "metadata": {},
   "outputs": [
    {
     "data": {
      "text/plain": [
       "2.1367"
      ]
     },
     "execution_count": 99,
     "metadata": {},
     "output_type": "execute_result"
    }
   ],
   "source": [
    "x_min"
   ]
  },
  {
   "cell_type": "markdown",
   "id": "06368a0c-b48a-4a0a-a10e-0b1f33812146",
   "metadata": {},
   "source": [
    "## MinMaxScaler with sklearn"
   ]
  },
  {
   "cell_type": "code",
   "execution_count": 114,
   "id": "1664003e-ab8f-469b-9e90-a72629f8d91b",
   "metadata": {},
   "outputs": [
    {
     "data": {
      "text/plain": [
       "array([[0.00184853],\n",
       "       [0.2613452 ],\n",
       "       [0.385312  ],\n",
       "       ...,\n",
       "       [0.45831136],\n",
       "       [0.26989486],\n",
       "       [0.22203311]])"
      ]
     },
     "execution_count": 114,
     "metadata": {},
     "output_type": "execute_result"
    }
   ],
   "source": [
    "from sklearn.preprocessing import MinMaxScaler\n",
    "scaler=MinMaxScaler()\n",
    "scaled_wage=scaler.fit_transform(wage_data)\n",
    "scaled_wage"
   ]
  },
  {
   "cell_type": "code",
   "execution_count": null,
   "id": "b9f70911-4200-465e-8ad2-68472a8055b5",
   "metadata": {},
   "outputs": [],
   "source": []
  }
 ],
 "metadata": {
  "kernelspec": {
   "display_name": "Python [conda env:base] *",
   "language": "python",
   "name": "conda-base-py"
  },
  "language_info": {
   "codemirror_mode": {
    "name": "ipython",
    "version": 3
   },
   "file_extension": ".py",
   "mimetype": "text/x-python",
   "name": "python",
   "nbconvert_exporter": "python",
   "pygments_lexer": "ipython3",
   "version": "3.12.7"
  }
 },
 "nbformat": 4,
 "nbformat_minor": 5
}
